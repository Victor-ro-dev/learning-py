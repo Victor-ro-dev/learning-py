{
 "cells": [
  {
   "cell_type": "code",
   "execution_count": null,
   "metadata": {},
   "outputs": [],
   "source": [
    "from selenium import webdriver\n",
    "from webdriver_manager.chrome import ChromeDriverManager\n",
    "from selenium.webdriver.chrome.service import Service\n",
    "\n",
    "\n",
    "servico = Service(ChromeDriverManager().install())"
   ]
  },
  {
   "cell_type": "code",
   "execution_count": null,
   "metadata": {},
   "outputs": [],
   "source": [
    "navegador = webdriver.Chrome(service=servico)\n",
    "navegador.get(\"https://portal.facens.br/Corpore.Net/Login.aspx?_gl=1*g59e4b*_gcl_aw*R0NMLjE3MjI4ODk2MDIuQ2owS0NRancxX1NrQmhEd0FSSXNBTmJHcEZ2bW1GUUNZQkV6WnhxTzJQNFdlZXVHdkRndjhXcmNlOGJLR25TcjJud0psX3BGZ3NaMWM5NGFBanZTRUFMd193Y0I.*_gcl_au*NDEzOTQ1MTEwLjE3MjIxOTQ1OTY.*_ga*MTk0MzAyMTE0MC4xNjk4MjQyNzI1*_ga_V15PB81Q87*MTcyMjg4OTYwMS43Ny4wLjE3MjI4ODk2MDEuNjAuMC4w\")\n",
    "\n",
    "navegador.find_element('xpath','//*[@id=\"txtUser\"]').send_keys(\"\")#login \n",
    "navegador.find_element('xpath','//*[@id=\"txtPass\"]').send_keys(\"\")#senha\n",
    "navegador.find_element('xpath','//*[@id=\"btnLogin\"]').click()"
   ]
  },
  {
   "cell_type": "markdown",
   "metadata": {},
   "source": [
    "# Automação web\n",
    "\n",
    "Esta aplicação é usada para entrar no site Portal Facens e fazer o login automático.\n",
    "\n",
    "1. Automação de processos"
   ]
  }
 ],
 "metadata": {
  "language_info": {
   "name": "python"
  }
 },
 "nbformat": 4,
 "nbformat_minor": 2
}
